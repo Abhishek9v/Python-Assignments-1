{
 "cells": [
  {
   "cell_type": "code",
   "execution_count": 1,
   "id": "b6729a69",
   "metadata": {},
   "outputs": [],
   "source": [
    "#Write a Python program to print Hello Python"
   ]
  },
  {
   "cell_type": "code",
   "execution_count": 2,
   "id": "6773e0ac",
   "metadata": {},
   "outputs": [
    {
     "name": "stdout",
     "output_type": "stream",
     "text": [
      "Hello Python\n"
     ]
    }
   ],
   "source": [
    "print(\"Hello Python\")"
   ]
  },
  {
   "cell_type": "code",
   "execution_count": 3,
   "id": "a37374a9",
   "metadata": {},
   "outputs": [],
   "source": [
    "#Write a Python program to do arithmetical operations addition and division"
   ]
  },
  {
   "cell_type": "code",
   "execution_count": 4,
   "id": "ae3a171e",
   "metadata": {},
   "outputs": [],
   "source": [
    "a=2"
   ]
  },
  {
   "cell_type": "code",
   "execution_count": 5,
   "id": "d78cbd6e",
   "metadata": {},
   "outputs": [],
   "source": [
    "b=6"
   ]
  },
  {
   "cell_type": "code",
   "execution_count": 6,
   "id": "67292ceb",
   "metadata": {},
   "outputs": [],
   "source": [
    "c=a+b"
   ]
  },
  {
   "cell_type": "code",
   "execution_count": 7,
   "id": "d975d0d1",
   "metadata": {},
   "outputs": [
    {
     "name": "stdout",
     "output_type": "stream",
     "text": [
      "8\n"
     ]
    }
   ],
   "source": [
    "print(c)"
   ]
  },
  {
   "cell_type": "code",
   "execution_count": 8,
   "id": "6f8277d2",
   "metadata": {},
   "outputs": [],
   "source": [
    "d=b/a"
   ]
  },
  {
   "cell_type": "code",
   "execution_count": 9,
   "id": "7b9bdb2e",
   "metadata": {},
   "outputs": [
    {
     "name": "stdout",
     "output_type": "stream",
     "text": [
      "3.0\n"
     ]
    }
   ],
   "source": [
    "print(d)"
   ]
  },
  {
   "cell_type": "code",
   "execution_count": 10,
   "id": "76e6a9d3",
   "metadata": {},
   "outputs": [],
   "source": [
    "#Write a Python program to find the area of a triangle"
   ]
  },
  {
   "cell_type": "code",
   "execution_count": 11,
   "id": "3ffffcc0",
   "metadata": {},
   "outputs": [],
   "source": [
    "b = 5"
   ]
  },
  {
   "cell_type": "code",
   "execution_count": 12,
   "id": "3e2687da",
   "metadata": {},
   "outputs": [],
   "source": [
    "h =3"
   ]
  },
  {
   "cell_type": "code",
   "execution_count": 13,
   "id": "8c22a578",
   "metadata": {},
   "outputs": [],
   "source": [
    "ar= b*h/2"
   ]
  },
  {
   "cell_type": "code",
   "execution_count": 14,
   "id": "d4570c91",
   "metadata": {},
   "outputs": [
    {
     "name": "stdout",
     "output_type": "stream",
     "text": [
      "area of triangle is= 7.5\n"
     ]
    }
   ],
   "source": [
    "print(\"area of triangle is=\", ar)"
   ]
  },
  {
   "cell_type": "code",
   "execution_count": 15,
   "id": "d89f49eb",
   "metadata": {},
   "outputs": [],
   "source": [
    "#Write a Python program to swap two variables"
   ]
  },
  {
   "cell_type": "code",
   "execution_count": 16,
   "id": "251ef950",
   "metadata": {},
   "outputs": [],
   "source": [
    "x=2"
   ]
  },
  {
   "cell_type": "code",
   "execution_count": 17,
   "id": "3eb738ce",
   "metadata": {},
   "outputs": [],
   "source": [
    "y=3"
   ]
  },
  {
   "cell_type": "code",
   "execution_count": 18,
   "id": "46a607b8",
   "metadata": {},
   "outputs": [],
   "source": [
    "x, y = y, x"
   ]
  },
  {
   "cell_type": "code",
   "execution_count": 19,
   "id": "4c959fa2",
   "metadata": {},
   "outputs": [
    {
     "name": "stdout",
     "output_type": "stream",
     "text": [
      "x = 3\n"
     ]
    }
   ],
   "source": [
    "print(\"x =\", x)"
   ]
  },
  {
   "cell_type": "code",
   "execution_count": 20,
   "id": "9efea590",
   "metadata": {},
   "outputs": [
    {
     "name": "stdout",
     "output_type": "stream",
     "text": [
      "y = 2\n"
     ]
    }
   ],
   "source": [
    "print(\"y =\", y)"
   ]
  },
  {
   "cell_type": "code",
   "execution_count": 21,
   "id": "c50c64e9",
   "metadata": {},
   "outputs": [],
   "source": [
    "#Write a Python program to generate a random number"
   ]
  },
  {
   "cell_type": "code",
   "execution_count": 22,
   "id": "e1592149",
   "metadata": {},
   "outputs": [],
   "source": [
    "import random"
   ]
  },
  {
   "cell_type": "code",
   "execution_count": 23,
   "id": "0e243efd",
   "metadata": {},
   "outputs": [],
   "source": [
    "number = random.random()"
   ]
  },
  {
   "cell_type": "code",
   "execution_count": 24,
   "id": "7c13ed39",
   "metadata": {},
   "outputs": [
    {
     "name": "stdout",
     "output_type": "stream",
     "text": [
      "0.07156299112987341\n"
     ]
    }
   ],
   "source": [
    "print(number)"
   ]
  }
 ],
 "metadata": {
  "kernelspec": {
   "display_name": "Python 3 (ipykernel)",
   "language": "python",
   "name": "python3"
  },
  "language_info": {
   "codemirror_mode": {
    "name": "ipython",
    "version": 3
   },
   "file_extension": ".py",
   "mimetype": "text/x-python",
   "name": "python",
   "nbconvert_exporter": "python",
   "pygments_lexer": "ipython3",
   "version": "3.9.12"
  }
 },
 "nbformat": 4,
 "nbformat_minor": 5
}
